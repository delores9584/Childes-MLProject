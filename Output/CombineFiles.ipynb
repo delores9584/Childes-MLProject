{
 "cells": [
  {
   "cell_type": "code",
   "execution_count": 1,
   "metadata": {},
   "outputs": [],
   "source": [
    "import pandas as pd\n",
    "import numpy as np"
   ]
  },
  {
   "cell_type": "markdown",
   "metadata": {},
   "source": [
    "# Combine two data files"
   ]
  },
  {
   "cell_type": "code",
   "execution_count": 2,
   "metadata": {},
   "outputs": [],
   "source": [
    "#Read in two files\n",
    "gil_info = pd.read_csv(\"gil_info_update.csv\")\n",
    "gil_scr = pd.read_csv(\"Gillam_scripts.csv\")"
   ]
  },
  {
   "cell_type": "code",
   "execution_count": 6,
   "metadata": {},
   "outputs": [
    {
     "data": {
      "text/plain": [
       "dict_values([497, 171])"
      ]
     },
     "execution_count": 6,
     "metadata": {},
     "output_type": "execute_result"
    }
   ],
   "source": [
    "pd.DataFrame.head(gil_info)\n",
    "from collections import Counter\n",
    "Counter(gil_info[\"Impaired\"]).keys()\n",
    "Counter(gil_info[\"Impaired\"]).values()"
   ]
  },
  {
   "cell_type": "code",
   "execution_count": 5,
   "metadata": {},
   "outputs": [
    {
     "data": {
      "text/html": [
       "<div>\n",
       "<style scoped>\n",
       "    .dataframe tbody tr th:only-of-type {\n",
       "        vertical-align: middle;\n",
       "    }\n",
       "\n",
       "    .dataframe tbody tr th {\n",
       "        vertical-align: top;\n",
       "    }\n",
       "\n",
       "    .dataframe thead th {\n",
       "        text-align: right;\n",
       "    }\n",
       "</style>\n",
       "<table border=\"1\" class=\"dataframe\">\n",
       "  <thead>\n",
       "    <tr style=\"text-align: right;\">\n",
       "      <th></th>\n",
       "      <th>transcript_id</th>\n",
       "      <th>date</th>\n",
       "      <th>Impaired</th>\n",
       "      <th>Age</th>\n",
       "      <th>Gender</th>\n",
       "      <th>gloss</th>\n",
       "      <th>PoS</th>\n",
       "    </tr>\n",
       "  </thead>\n",
       "  <tbody>\n",
       "    <tr>\n",
       "      <th>0</th>\n",
       "      <td>9573</td>\n",
       "      <td>2002-01-28</td>\n",
       "      <td>LangImpaired</td>\n",
       "      <td>10</td>\n",
       "      <td>f</td>\n",
       "      <td>[and she asked um where do you wanna go, and t...</td>\n",
       "      <td>[coord pro:sub v adv:int mod pro:per v v, coor...</td>\n",
       "    </tr>\n",
       "    <tr>\n",
       "      <th>1</th>\n",
       "      <td>9574</td>\n",
       "      <td>2002-12-02</td>\n",
       "      <td>LangImpaired</td>\n",
       "      <td>10</td>\n",
       "      <td>f</td>\n",
       "      <td>[um they were hungry, um mom says where do you...</td>\n",
       "      <td>[pro:sub cop adj, n v adv:int mod pro:per v in...</td>\n",
       "    </tr>\n",
       "    <tr>\n",
       "      <th>2</th>\n",
       "      <td>9575</td>\n",
       "      <td>2002-11-14</td>\n",
       "      <td>LangImpaired</td>\n",
       "      <td>10</td>\n",
       "      <td>f</td>\n",
       "      <td>[Lisa and Raymond and their mother were suppos...</td>\n",
       "      <td>[n:prop coord n:prop coord det:poss n aux part...</td>\n",
       "    </tr>\n",
       "    <tr>\n",
       "      <th>3</th>\n",
       "      <td>9576</td>\n",
       "      <td>2002-12-03</td>\n",
       "      <td>LangImpaired</td>\n",
       "      <td>10</td>\n",
       "      <td>f</td>\n",
       "      <td>[their mom said we'll go to Mcdonalds, and the...</td>\n",
       "      <td>[det:poss n v pro:sub v prep n:prop, coord pro...</td>\n",
       "    </tr>\n",
       "    <tr>\n",
       "      <th>4</th>\n",
       "      <td>9577</td>\n",
       "      <td>2002-11-05</td>\n",
       "      <td>LangImpaired</td>\n",
       "      <td>10</td>\n",
       "      <td>f</td>\n",
       "      <td>[um the boy and the girl ordered um, they went...</td>\n",
       "      <td>[det:art n coord det:art n v, pro:sub v prep n...</td>\n",
       "    </tr>\n",
       "  </tbody>\n",
       "</table>\n",
       "</div>"
      ],
      "text/plain": [
       "   transcript_id        date      Impaired  Age Gender  \\\n",
       "0           9573  2002-01-28  LangImpaired   10      f   \n",
       "1           9574  2002-12-02  LangImpaired   10      f   \n",
       "2           9575  2002-11-14  LangImpaired   10      f   \n",
       "3           9576  2002-12-03  LangImpaired   10      f   \n",
       "4           9577  2002-11-05  LangImpaired   10      f   \n",
       "\n",
       "                                               gloss  \\\n",
       "0  [and she asked um where do you wanna go, and t...   \n",
       "1  [um they were hungry, um mom says where do you...   \n",
       "2  [Lisa and Raymond and their mother were suppos...   \n",
       "3  [their mom said we'll go to Mcdonalds, and the...   \n",
       "4  [um the boy and the girl ordered um, they went...   \n",
       "\n",
       "                                                 PoS  \n",
       "0  [coord pro:sub v adv:int mod pro:per v v, coor...  \n",
       "1  [pro:sub cop adj, n v adv:int mod pro:per v in...  \n",
       "2  [n:prop coord n:prop coord det:poss n aux part...  \n",
       "3  [det:poss n v pro:sub v prep n:prop, coord pro...  \n",
       "4  [det:art n coord det:art n v, pro:sub v prep n...  "
      ]
     },
     "execution_count": 5,
     "metadata": {},
     "output_type": "execute_result"
    }
   ],
   "source": [
    "#Combine two data files to one named gil_info\n",
    "nrow_scr = len(gil_scr[\"id\"])\n",
    "nrow_info = len(gil_info[\"transcript_id\"])\n",
    "gil_scr[\"Impaired\"] = [[] for x in range(nrow_scr)]\n",
    "gil_scr[\"Age\"] = [[] for x in range(nrow_scr)]\n",
    "gil_scr[\"Gender\"] = [[] for x in range(nrow_scr)]\n",
    "\n",
    "for i in range(nrow_scr):\n",
    "    tran_id = gil_scr[\"transcript_id\"][i]\n",
    "    idx = list(gil_info[\"transcript_id\"]).index(int(tran_id))\n",
    "    gil_scr[\"Impaired\"][i] = gil_info[\"Impaired\"][idx]\n",
    "    gil_scr[\"Age\"][i] = gil_info[\"Age\"][idx]\n",
    "    gil_scr[\"Gender\"][i] = gil_info[\"Gender\"][idx]\n",
    "    \n",
    "#Resulted data\n",
    "pd.DataFrame.head(gil_info)"
   ]
  }
 ],
 "metadata": {
  "kernelspec": {
   "display_name": "Python 3",
   "language": "python",
   "name": "python3"
  },
  "language_info": {
   "codemirror_mode": {
    "name": "ipython",
    "version": 3
   },
   "file_extension": ".py",
   "mimetype": "text/x-python",
   "name": "python",
   "nbconvert_exporter": "python",
   "pygments_lexer": "ipython3",
   "version": "3.6.5"
  }
 },
 "nbformat": 4,
 "nbformat_minor": 2
}
